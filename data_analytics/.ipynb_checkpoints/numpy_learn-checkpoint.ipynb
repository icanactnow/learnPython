{
 "cells": [
  {
   "cell_type": "markdown",
   "metadata": {},
   "source": [
    "NumPy是Python语言的一个扩充程序库。支持高级大量的维度数组与矩阵运算，此外也针对数组运算提供大量的数学函数库。Numpy内部解除了Python的PIL(全局解释器锁),运算效率极好,是大量机器学习框架的基础库!"
   ]
  },
  {
   "cell_type": "markdown",
   "metadata": {},
   "source": [
    "# 1 基础用法"
   ]
  },
  {
   "cell_type": "markdown",
   "metadata": {},
   "source": [
    "## 1.1 将普通数组转换成Numpy数组"
   ]
  },
  {
   "cell_type": "code",
   "execution_count": 1,
   "metadata": {},
   "outputs": [],
   "source": [
    "import numpy as np\n",
    "axis_1 = np.array([1, 2, 3])#将数组转换成Numpy类型的一维数组\n",
    "axis_2 = np.array([[1,3], [2, 3], [4, 1]])# 二维数组\n",
    "axis_3 = np.array([[[1,3,4]], [[1,4,4]]]) # 三维数组"
   ]
  },
  {
   "cell_type": "markdown",
   "metadata": {},
   "source": [
    "### 1.1.1 查看numpy数组属性"
   ]
  },
  {
   "cell_type": "code",
   "execution_count": 2,
   "metadata": {},
   "outputs": [
    {
     "name": "stdout",
     "output_type": "stream",
     "text": [
      "3\n",
      "(3,)\n",
      "1\n",
      "int32\n"
     ]
    }
   ],
   "source": [
    "print(axis_1.size)\n",
    "print(axis_1.shape)# 输出数组形状\n",
    "print(axis_1.ndim)# 输出数组维度\n",
    "print(axis_1.dtype)# 输出数组元素类型"
   ]
  },
  {
   "cell_type": "markdown",
   "metadata": {},
   "source": [
    "## 1.2 快速创建Numpy数组"
   ]
  },
  {
   "cell_type": "code",
   "execution_count": 3,
   "metadata": {},
   "outputs": [
    {
     "name": "stdout",
     "output_type": "stream",
     "text": [
      "[[1. 1. 1.]\n",
      " [1. 1. 1.]\n",
      " [1. 1. 1.]]\n",
      "[[0. 0. 0.]\n",
      " [0. 0. 0.]\n",
      " [0. 0. 0.]]\n",
      "[[0.08333091 0.70982272 0.1129198 ]\n",
      " [0.17920537 0.28903072 0.08721166]\n",
      " [0.15045447 0.57635979 0.24099472]]\n"
     ]
    }
   ],
   "source": [
    "# 创建内容为1形状为3*3的数组\n",
    "print(np.ones([3, 3]))\n",
    "# 创建内容为0形状为3*3的数组\n",
    "print(np.zeros([3,3]))\n",
    "# 创建二维随机数组\n",
    "print(np.random.rand(3, 3))"
   ]
  },
  {
   "cell_type": "markdown",
   "metadata": {},
   "source": [
    "## 1.3 深拷贝与浅拷贝"
   ]
  },
  {
   "cell_type": "code",
   "execution_count": 4,
   "metadata": {},
   "outputs": [],
   "source": [
    "# 浅拷贝\n",
    "a = np.asarray(np.ones([2,3]))# 浅拷贝\n",
    "b = np.array(np.ones([2,3]))# 深拷贝"
   ]
  },
  {
   "cell_type": "markdown",
   "metadata": {},
   "source": [
    "# 2 numpy 计算"
   ]
  },
  {
   "cell_type": "markdown",
   "metadata": {},
   "source": [
    "## 2.1 统计运算"
   ]
  },
  {
   "cell_type": "markdown",
   "metadata": {},
   "source": [
    "### 2.1.1 将每个元素与设定值进行比较"
   ]
  },
  {
   "cell_type": "code",
   "execution_count": 5,
   "metadata": {},
   "outputs": [
    {
     "name": "stdout",
     "output_type": "stream",
     "text": [
      "[[ True  True]\n",
      " [ True  True]\n",
      " [False  True]]\n"
     ]
    }
   ],
   "source": [
    "score = np.array([[99, 88], [77, 90], [23, 87]])\n",
    "print(score > 60)"
   ]
  },
  {
   "cell_type": "markdown",
   "metadata": {},
   "source": [
    "### 2.1.2 修改数组中不符合要求的元素"
   ]
  },
  {
   "cell_type": "code",
   "execution_count": 6,
   "metadata": {},
   "outputs": [
    {
     "name": "stdout",
     "output_type": "stream",
     "text": [
      "[[ 99  88]\n",
      " [ 77  90]\n",
      " [100  87]]\n"
     ]
    }
   ],
   "source": [
    "# 将数组总分数低于60的替换成100\n",
    "new_score = np.where(score<60, 100, score)\n",
    "print(new_score)"
   ]
  },
  {
   "cell_type": "markdown",
   "metadata": {},
   "source": [
    "### 2.1.3 获取行列(某一轴)的最大最小值"
   ]
  },
  {
   "cell_type": "code",
   "execution_count": 7,
   "metadata": {},
   "outputs": [
    {
     "name": "stdout",
     "output_type": "stream",
     "text": [
      "[99 90] [88 77 23]\n"
     ]
    }
   ],
   "source": [
    "row_max = np.amax(score, axis=0)# 获取维度为0的最大值\n",
    "row_min = np.amin(score, axis=1)# 获取维度为1的最小值\n",
    "print(row_max, row_min)"
   ]
  },
  {
   "cell_type": "code",
   "execution_count": null,
   "metadata": {
    "scrolled": false
   },
   "outputs": [],
   "source": []
  },
  {
   "cell_type": "markdown",
   "metadata": {},
   "source": [
    "### 2.1.4 计算某一轴的平均值"
   ]
  },
  {
   "cell_type": "code",
   "execution_count": 8,
   "metadata": {},
   "outputs": [
    {
     "name": "stdout",
     "output_type": "stream",
     "text": [
      "[66.33333333 88.33333333]\n"
     ]
    }
   ],
   "source": [
    "row_mean = np.mean(score, axis=0)\n",
    "print(row_mean)"
   ]
  },
  {
   "cell_type": "markdown",
   "metadata": {},
   "source": [
    "### 2.1.5 计算某一轴的方差"
   ]
  },
  {
   "cell_type": "code",
   "execution_count": 9,
   "metadata": {},
   "outputs": [
    {
     "name": "stdout",
     "output_type": "stream",
     "text": [
      "[31.93048004  1.24721913]\n"
     ]
    }
   ],
   "source": [
    "row_std = np.std(score, axis=0)\n",
    "print(row_std)"
   ]
  },
  {
   "cell_type": "markdown",
   "metadata": {},
   "source": [
    "### 2.1.6 为某一轴做四则运算"
   ]
  },
  {
   "cell_type": "code",
   "execution_count": 11,
   "metadata": {},
   "outputs": [
    {
     "name": "stdout",
     "output_type": "stream",
     "text": [
      "[[104  88]\n",
      " [ 82  90]\n",
      " [ 28  87]]\n"
     ]
    }
   ],
   "source": [
    "score = np.array([[99, 88], [77, 90], [23, 87]])\n",
    "score[:, 0] = score[:, 0]+5 # 取出数组的第一位+5 并重新赋值给同样的位置\n",
    "print(score)"
   ]
  }
 ],
 "metadata": {
  "kernelspec": {
   "display_name": "Python 3",
   "language": "python",
   "name": "python3"
  },
  "language_info": {
   "codemirror_mode": {
    "name": "ipython",
    "version": 3
   },
   "file_extension": ".py",
   "mimetype": "text/x-python",
   "name": "python",
   "nbconvert_exporter": "python",
   "pygments_lexer": "ipython3",
   "version": "3.6.4"
  }
 },
 "nbformat": 4,
 "nbformat_minor": 2
}
